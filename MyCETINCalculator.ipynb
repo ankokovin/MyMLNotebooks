{
  "nbformat": 4,
  "nbformat_minor": 0,
  "metadata": {
    "colab": {
      "name": "MyCETINCalculator.ipynb",
      "version": "0.3.2",
      "provenance": [],
      "collapsed_sections": [],
      "toc_visible": true,
      "include_colab_link": true
    },
    "kernelspec": {
      "name": "python3",
      "display_name": "Python 3"
    }
  },
  "cells": [
    {
      "cell_type": "markdown",
      "metadata": {
        "id": "view-in-github",
        "colab_type": "text"
      },
      "source": [
        "<a href=\"https://colab.research.google.com/github/ankokovin/MyMLNotebooks/blob/master/MyCETINCalculator.ipynb\" target=\"_parent\"><img src=\"https://colab.research.google.com/assets/colab-badge.svg\" alt=\"Open In Colab\"/></a>"
      ]
    },
    {
      "metadata": {
        "id": "5BZ3ZDAbmI3F",
        "colab_type": "text"
      },
      "cell_type": "markdown",
      "source": [
        "# CETIN Calculator"
      ]
    },
    {
      "metadata": {
        "id": "OZznHThHm-nS",
        "colab_type": "text"
      },
      "cell_type": "markdown",
      "source": [
        "## 1. Оценка функционального размера"
      ]
    },
    {
      "metadata": {
        "id": "_6J95Yhul9Lf",
        "colab_type": "code",
        "outputId": "e643e5c8-f3db-48e3-8b05-0802872b24d8",
        "colab": {
          "base_uri": "https://localhost:8080/",
          "height": 35
        }
      },
      "cell_type": "code",
      "source": [
        "#@title Ввод C,E,T,I и N { run: \"auto\", display-mode: \"form\" }\n",
        "C = 10 #@param {type:\"integer\"}\n",
        "E = 10 #@param {type:\"integer\"}\n",
        "T = 10 #@param {type:\"integer\"}\n",
        "I = 10 #@param {type:\"integer\"}\n",
        "N = 10 #@param {type:\"integer\"}\n",
        "\n",
        "CETIN = [C, E, T, I, N]\n",
        "print(CETIN)"
      ],
      "execution_count": 120,
      "outputs": [
        {
          "output_type": "stream",
          "text": [
            "[10, 10, 10, 10, 10]\n"
          ],
          "name": "stdout"
        }
      ]
    },
    {
      "metadata": {
        "id": "dKvj6d8Om4di",
        "colab_type": "text"
      },
      "cell_type": "markdown",
      "source": [
        "## 2. Расчёт базовой трудоёмкости"
      ]
    },
    {
      "metadata": {
        "id": "NkfmNt_InyJ5",
        "colab_type": "text"
      },
      "cell_type": "markdown",
      "source": [
        "|#|Наименование процесса     |C        |E        |T         |I         |N       |\n",
        "|-|------------------------------------------------|----------|---------|----------|---------|---------|\n",
        "|1|Бизнес-моделирование        |32.12|28.33|0         |14.15|0        |\n",
        "|2|Управление требованиями |58.03|28.04|0         |20.32|0        |\n",
        "|3|Проектирование                     |45.42|61.75|31.35|37.52|24.02|\n",
        "|4|Реализация                              |31.57|81.51|50.72|36.11|0         |\n",
        "|5|Тестирование                          |88.96|0       |0         |0       |0         |\n",
        "|6|Развёртывание                       |8.96 |0        |0         |0       |23.74 |\n"
      ]
    },
    {
      "metadata": {
        "id": "m7osezieohtx",
        "colab_type": "code",
        "colab": {}
      },
      "cell_type": "code",
      "source": [
        "norm = [\n",
        "[32.12, 28.33, 0    , 14.15, 0    ],\n",
        "[58.03, 28.04, 0    , 20.32, 0    ],\n",
        "[45.42, 61.75, 31.35, 37.52, 24.02],\n",
        "[31.57, 81.51, 50.72, 36.11, 0    ],\n",
        "[88.96, 0    , 0    , 0    , 0    ],\n",
        "[8.96 , 0    , 0    , 0    , 23.74]\n",
        "]"
      ],
      "execution_count": 0,
      "outputs": []
    },
    {
      "metadata": {
        "id": "MzYfhaBGu7iK",
        "colab_type": "text"
      },
      "cell_type": "markdown",
      "source": [
        "$S_i = [C*S_i(C) + E*N_i(E) + T * N_i(T) + I*N_i(I) + N * S_i(N)]/165$\n",
        "\n",
        "или по-русски (по матричному)\n",
        "\n",
        "$S =  \\begin{pmatrix}\n",
        "  32.12&& 28.33&& 0      && 14.15&& 0        \\\\\n",
        "  58.03&& 28.04&& 0      && 20.32&& 0        \\\\\n",
        "  45.42&& 61.75&& 31.35&& 37.52&& 24.02 \\\\\n",
        "  31.57&& 81.51&& 50.72&& 36.11&& 0        \\\\\n",
        "  88.96&& 0      && 0       && 0      && 0        \\\\\n",
        "  8.96  && 0      && 0       && 0      && 23.74\n",
        " \\end{pmatrix} *\n",
        " \\begin{pmatrix}\n",
        "  C  \\\\\n",
        "  E  \\\\\n",
        "  T \\\\\n",
        "  I \\\\\n",
        "  N\n",
        " \\end{pmatrix}*\\frac{1}{165}$\n",
        " $S = norm*CETIN^T*\\frac{1}{165}$"
      ]
    },
    {
      "metadata": {
        "id": "6XMxq1zjuSqi",
        "colab_type": "code",
        "outputId": "28ec19b4-1861-43a6-8ee7-826d3d64b19b",
        "colab": {
          "base_uri": "https://localhost:8080/",
          "height": 35
        }
      },
      "cell_type": "code",
      "source": [
        "import numpy as np\n",
        "\n",
        "S = np.transpose( np.dot(np.matrix(norm), np.transpose( np.matrix(CETIN))))/165\n",
        "print(S)"
      ],
      "execution_count": 122,
      "outputs": [
        {
          "output_type": "stream",
          "text": [
            "[[ 4.52121212  6.44787879 12.12484848 12.11575758  5.39151515  1.98181818]]\n"
          ],
          "name": "stdout"
        }
      ]
    },
    {
      "metadata": {
        "id": "3WTLkjNvzLjA",
        "colab_type": "text"
      },
      "cell_type": "markdown",
      "source": [
        "## 3. Определение поправочных коэффициентов"
      ]
    },
    {
      "metadata": {
        "id": "rYz6OfekzgG2",
        "colab_type": "code",
        "colab": {}
      },
      "cell_type": "code",
      "source": [
        "#@title Определение частных поправочных коэффициентов { run: \"auto\", display-mode: \"form\" }\n",
        "\n",
        "#@markdown ## Внутренние факторы\n",
        "\n",
        "#@markdown ### K1 Режим эксплуатации ИС\n",
        "#@markdown Определяется в зависимости от конкретных технологий или типов обработки, принятых в системе программного обеспечения. Принимает следующие значения:\n",
        "#@markdown - 1 - обработка данных в режиме разделения времени\n",
        "#@markdown - 1,04 - параллельная обработка данных\n",
        "#@markdown - 1,05 - обработка данных в режиме реального времени\n",
        "#@markdown - 1,07 - совмещенная обработка данных\n",
        "K1 = 1 #@param [\"1\", \"1.04\", \"1.05\", \"1.07\"] {type:\"raw\"}\n",
        "\n",
        "#@markdown ### K2 Масштаб ИС\n",
        "#@markdown Масштаб может быть определен количеством одновременно работающих пользователей. Принимает следующие значения: Принимает следующие значения:\n",
        "#@markdown - 0,95  малые ИС (до 10 пользователей с непродолжительным ЖЦ)\n",
        "#@markdown - 1 - средние ИС (от 11 до 100 пользователей с длительным ЖЦ с возможностью роста до крупных систем)\n",
        "#@markdown - 1,05 - крупные ИС (от 101 до 1000 пользователей с длительным ЖЦ и миграцией унаследованных систем)\n",
        "#@markdown - 1,08 - сверхбольшие (свыше 1000 пользователей)\n",
        "K2 = 1 #@param [\"0.95\", \"1\", \"1.05\", \"1.08\"] {type:\"raw\"}\n",
        "\n",
        "#@markdown ### K3 Стабильность ИС \n",
        "#@markdown Определяется в зависимости от ее внутренних эволюционных аспектов или стабильности в процессе сопровождения. Принимает следующие значения:\n",
        "#@markdown - 1,1 - постоянное внесение изменений\n",
        "#@markdown - 1 - дискретное внесение изменений\n",
        "#@markdown - 0,95 - маловероятное внесение изменений\n",
        "K3 = 1 #@param [\"1.1\",\"1\",\"0.95\"]{type:\"raw\"}\n",
        "\n",
        "#@markdown ### K4 Защита от несанкционированного доступа\n",
        "#@markdown Предотвращение или существенное затруднение несанкционированного доступа. Принимает следующие значения:\n",
        "#@markdown - 1,05 - сильная \n",
        "#@markdown - 1 - средняя\n",
        "#@markdown - 0,98 - слабая\n",
        "K4 = 1 #@param [\"1.05\", \"1\", \"0.98\"]{type:\"raw\"}\n",
        "\n",
        "#@markdown ### K5 Защита программ и данных (на уровне ОС, на уровне сетевого ПО, на уровне СУБД)\n",
        "#@markdown - 1,03 - сильная\n",
        "#@markdown - 1 - средняя\n",
        "#@markdown - 0,97 - слабая\n",
        "K5 = 1 #@param [\"1.03\", \"1\", \"0.97\"]{type:\"raw\"}\n",
        "\n",
        "#@markdown ### K6 Контрольный след операций\n",
        "#@markdown Возможность фиксации несанкционированных изменений в системе:\n",
        "#@markdown - 1 - не имеется \n",
        "#@markdown - 1,08 - выборочное отслеживание \n",
        "#@markdown - 1,13 - полное отслеживание \n",
        "K6 = 1 #@param [\"1\", \"1.08\", \"1.13\"]{type:\"raw\"}\n",
        "\n",
        "#@markdown ### К7 Отказоустойчивость\n",
        "#@markdown Свойство системы непрерывно сохранять работоспособное состояние в течении некоторого времени. Принимает следующие значения:\n",
        "#@markdown - 1,15 - Высокая \n",
        "#@markdown - 1 - Средняя\n",
        "#@markdown - 0,92 - Низкая\n",
        "K7 = 1 #@param [\"1.15\", \"1\", \"0.92\"]{type:\"raw\"}\n",
        "\n",
        "#@markdown ### K8 Восстанавливаемость \n",
        "#@markdown Среднее время восстановления работоспособности после отказа. Принимает следующие значения:\n",
        "#@markdown - 1,12 - высокая \n",
        "#@markdown - 1 - средняя \n",
        "#@markdown - 0,98 - низкая \n",
        "K8 = 1 #@param [\"1.12\", \"1\", \"0.98\"]{type:\"raw\"}\n",
        "\n",
        "#@markdown ### K9 Длительность обработки (время отклика)\n",
        "#@markdown Быстрота реакции системы на входные воздействия. Принимает следующие значения:\n",
        "#@markdown - 1,21 - быстрая \n",
        "#@markdown - 1 - умеренная\n",
        "#@markdown - 0,92 - медленная\n",
        "K9 = 1 #@param [\"1.21\", \"1\", \"0.92\"]{type:\"raw\"}\n",
        "\n",
        "#@markdown ### K10 Исходный язык разработки ИС\n",
        "#@markdown Определяется в зависимости от типа исходного языка, используемого при разработке ИС. Принимает следующие значения:\n",
        "#@markdown - 1,08 - традиционный (Кобол, Фортран и т.д.)\n",
        "#@markdown - 1,09 - процедурный (Си или эквивалентный)\n",
        "#@markdown - 1,07 - функциональный (Лисп или эквивалентный)\n",
        "#@markdown - 1 -объектноориентированный (Си++ или эквивалентный)\n",
        "K10 = 1 #@param [\"1.08\", \"1.09\", \"1.07\", \"1\"]{type:\"raw\"}\n",
        "\n",
        "#@markdown ## Факторы среды\n",
        "\n",
        "#@markdown ### K11 Класс пользователя\n",
        "#@markdown Определяется в зависимости от уровня мастерства или характеристик определенного класса пользователей. Пользователем может быть система, являющаяся внешней по отношении к рассматриваемой системе. Принимает следующие значения:\n",
        "#@markdown - 1,12 - начинающий \n",
        "#@markdwon - 1,07 - средний \n",
        "#@markdown - 1 - специалист (эксперт)\n",
        "#@markdown - 1,14 - случайный \n",
        "#@markdown - 1,06 - другая ИС (ПО) \n",
        "#@markdown - 1,09 - технические средства \n",
        "K11 = 1 #@param [\"1.12\", \"1.07\", \"1\", \"1.14\", \"1.06\", \"1.09\"]{type:\"raw\"}\n",
        "\n",
        "#@markdown ### K12 Требования к центральному обрабатывающему устройству (процессору)\n",
        "#@markdown Определяются требованиями к тактовой частоте процессора (скорости процессора). Принимает следующие значения: \n",
        "#@markdown - 0,99 - высокая \n",
        "#@markdown - 1 - средняя\n",
        "K12 = 1 #@param [\"0.99\", \"1\"]{type:\"raw\"}\n",
        "\n",
        "#@markdown ### K13 Требования к оперативной (основной) памяти\n",
        "#@markdown ИС должна быть идентифицировано по требованиям, предъявляемым к оперативной памяти (объем, быстродействие). Принимает следующие значения:\n",
        "#@markdown - 1 - большая\n",
        "#@markdown - 1,04 - малая\n",
        "K13 = 1 #@param [\"1\", \"1.04\"]{type:\"raw\"}\n",
        "\n",
        "#@markdown ### K14 Требования к внешней памяти\n",
        "#@markdown ИС должна быть идентифицировано по требованиям, предъявляемым к внешней памяти (объем, быстродействие). Принимает следующие значения:\n",
        "#@markdown - 1 - большая\n",
        "#@markdwon - 1,01 - малая \n",
        "K14 = 1 #@param [\"1\", \"1.01\"]{type:\"raw\"}\n",
        "\n",
        "#@markdown ### K15 Требования к локальной вычислительной сети\n",
        "#@markdown ИС должна быть идентифицировано по требованиям, предъявляемым к ЛВС (пропускная способность, зашита информации в сети). Принимает следующие значения:\n",
        "#@markdown - 1 - высокие требования\n",
        "#@markdown - 1,02 - средние требования \n",
        "K15 = 1 #@param [\"1\", \"1.02\"]{type:\"raw\"}\n",
        "\n",
        "#@markdown ### K16 Критичность ИС\n",
        "#@markdown Определяется в зависимости от уровня целостности продукции, с учетом конкретной методологии оценки. Принимает следующие значения:\n",
        "#@markdown - 1,18 - человеческая жизнь\n",
        "#@markdown - 1,16 - национальная безопасность\n",
        "#@markdown - 1,13 - социальный хаос и паника \n",
        "#@markdown - 1 - организационная безопасность\n",
        "K16 = 1 #@param [\"1.18\", \"1.16\", \"1.13\", \"1\"]{type:\"raw\"}\n",
        "\n",
        "#@markdown ### K17 Готовность\n",
        "#@markdown Определяется в зависимости от типа имеющегося в наличии ППО. Принимает следующие значения:\n",
        "#@markdown - 0,99 - наличие в готовом виде (есть альтернативные продукты)\n",
        "#@markdown - 1 - общедоступная (известная методика)\n",
        "#@markdown - 1,11 - заказное (методика заказчика специфическая) \n",
        "#@markdown - 1,09 - запатентованное (методика разработчика)\n",
        "K17 = 1 #@param [\"0.99\", \"1\", \"1.11\",\"1.09\"]{type:\"raw\"}\n",
        "\n",
        "#@markdown ## Факторы данных\n",
        "\n",
        "#@markdown ### K18 Представление данных\n",
        "#@markdown Определяется в зависимости от элементов, типов и структур данных. Принимает следующие значения:\n",
        "#@markdown - 1 - реляционный\n",
        "#@markdown - 1 - индексируемый(иерархический)\n",
        "#@markdown - 1,08 - сетевой\n",
        "#@markdown - 1,09 - объектный\n",
        "#@markdown - 0,95 - форматированный файл\n",
        "K18 = 1 #@param [\"1\", \"1.08\", \"1.09\", \"0.95\"]{type:\"raw\"}\n"
      ],
      "execution_count": 0,
      "outputs": []
    },
    {
      "metadata": {
        "id": "dTSINXnnzKvO",
        "colab_type": "code",
        "colab": {
          "base_uri": "https://localhost:8080/",
          "height": 35
        },
        "outputId": "8c058b11-2e44-44e2-b16f-b6ec811c1d68"
      },
      "cell_type": "code",
      "source": [
        "k = [-1, K1, K2, K3, K4, K5, K6, K7, K8, K9, K10, \n",
        "     K11, K12, K13, K14, K15, K16, K17, K18]\n",
        "\n",
        "k_kp = [\n",
        "    [11, 16, 17],\n",
        "    [1,2,4,5,6,7,8,9,16,17,18],\n",
        "    [1,2,4,5,6,7,8,9,11,12,13,14,15,16,17,18],\n",
        "    [1,2,4,5,6,7,8,9,10,12,13,14,15,16,17,18],\n",
        "    [1,2,4,5,6,7,8,9,10,11,12,13,14,15,16,17,18],\n",
        "    [1,2,11,16,18]\n",
        "]\n",
        "kp = []\n",
        "for l in k_kp:\n",
        "    temp = 1\n",
        "    for i in l:\n",
        "        temp *= k[i]\n",
        "    kp.append(temp)\n",
        "    \n",
        "print(kp)"
      ],
      "execution_count": 124,
      "outputs": [
        {
          "output_type": "stream",
          "text": [
            "[1, 1, 1, 1, 1, 1]\n"
          ],
          "name": "stdout"
        }
      ]
    },
    {
      "metadata": {
        "id": "tmzj40GGEvE3",
        "colab_type": "text"
      },
      "cell_type": "markdown",
      "source": [
        "## 4. Расчет трудоемкости разработки ПО с учетом поправочных коэффициентов"
      ]
    },
    {
      "metadata": {
        "id": "DlVGheQXFlsi",
        "colab_type": "text"
      },
      "cell_type": "markdown",
      "source": [
        "$S=КП_1*S_1+КП_2 * S_2+KП_3 * S_3+КП_4 * S_4+КП_5 *S_5+КП_6*S_6$"
      ]
    },
    {
      "metadata": {
        "id": "o7YXNNaCEqMl",
        "colab_type": "code",
        "colab": {
          "base_uri": "https://localhost:8080/",
          "height": 35
        },
        "outputId": "1fe2b397-e680-477c-a6d1-6dd3493affa3"
      },
      "cell_type": "code",
      "source": [
        "S = np.sum(np.multiply(kp, S))\n",
        "print('Трудоёмкость в человеко/месяцах',S)"
      ],
      "execution_count": 125,
      "outputs": [
        {
          "output_type": "stream",
          "text": [
            "Трудоёмкость в человеко/месяцах 42.583030303030306\n"
          ],
          "name": "stdout"
        }
      ]
    },
    {
      "metadata": {
        "id": "lI-Sg_6gGKq9",
        "colab_type": "text"
      },
      "cell_type": "markdown",
      "source": [
        "# 5. Оценка сроков разработки ПО"
      ]
    },
    {
      "metadata": {
        "id": "v0scVXYOGRO5",
        "colab_type": "code",
        "colab": {
          "base_uri": "https://localhost:8080/",
          "height": 35
        },
        "outputId": "2fc82313-2ecf-4c4f-e75a-d0ce6a01be99"
      },
      "cell_type": "code",
      "source": [
        "times = [\n",
        "(5, 30),\n",
        "(10, 80),\n",
        "(17 , 140),\n",
        "(26 , 210),\n",
        "(37 , 280),\n",
        "(50 , 340),\n",
        "(65 , 400),\n",
        "(80 , 450),\n",
        "(100 , 500),\n",
        "(120 , 550),\n",
        "(140 , 610),\n",
        "(160 , 670),\n",
        "(180 , 720),\n",
        "(200 , 770),\n",
        "(230 , 820),\n",
        "(260 , 870),\n",
        "(290 , 930),\n",
        "(330 , 990),\n",
        "(370 , 1040),\n",
        "(420 , 1090),\n",
        "(470 , 1150),\n",
        "(530 , 1200),\n",
        "(600 , 1250),\n",
        "(670 , 1300),\n",
        "(750 , 1350),\n",
        "(830 , 1400),\n",
        "(900 , 1450),\n",
        "(970 , 1500),\n",
        "(1150 , 1550),\n",
        "(1230 , 1600),\n",
        "(1310 , 1660),\n",
        "(1390 , 1720),\n",
        "(1470 , 1780),\n",
        "(1520 , 1840),\n",
        "(1570 , 1900),\n",
        "(1620 , 1960),\n",
        "(1680 , 2020)\n",
        "]\n",
        "\n",
        "step = 40\n",
        "\n",
        "answer_l = -1\n",
        "if S >= times[-1][0] + step:\n",
        "    answer_l = (S - times[-1][0])//step + len(times) + 1\n",
        "else:\n",
        "    for i, item in enumerate(times):\n",
        "        if (item[0] >= S):\n",
        "            answer_l = max(1,i)\n",
        "            break\n",
        "\n",
        "answer_r = -1\n",
        "if S>= times[-1][1]:\n",
        "    answer_l = (S - times[-1][1])//step + len(times) + 1\n",
        "else:\n",
        "    for i, item in enumerate(times):\n",
        "        if (item[1]>S):\n",
        "            answer_r = i + 1\n",
        "            break\n",
        "\n",
        "t = (answer_l + answer_r)/2\n",
        "\n",
        "print('Длительность (месяцы)',t, ' (',answer_r,'-',answer_l,')')\n",
        "        \n",
        "    "
      ],
      "execution_count": 126,
      "outputs": [
        {
          "output_type": "stream",
          "text": [
            "Длительность (месяцы) 3.5  ( 2 - 5 )\n"
          ],
          "name": "stdout"
        }
      ]
    },
    {
      "metadata": {
        "id": "VC4oSpBYMhqS",
        "colab_type": "code",
        "colab": {
          "base_uri": "https://localhost:8080/",
          "height": 35
        },
        "outputId": "6e5d3a28-90aa-43f9-f105-ef1bf8f91894"
      },
      "cell_type": "code",
      "source": [
        "#@title Корректировка трудоемкости при уменьшении срока разработки (при необходимости) { vertical-output: true }\n",
        "X_percent = 5 #@param {type:\"slider\", min:0, max:100, step:1}\n",
        "L = 0.75 #@param {type:\"number\"}\n",
        "S_cor = S*X_percent/100*L\n",
        "print(S_cor)"
      ],
      "execution_count": 128,
      "outputs": [
        {
          "output_type": "stream",
          "text": [
            "1.5968636363636366\n"
          ],
          "name": "stdout"
        }
      ]
    },
    {
      "metadata": {
        "id": "xhhvlBasMXdQ",
        "colab_type": "text"
      },
      "cell_type": "markdown",
      "source": [
        "# 6. Оценка стоимости ПО"
      ]
    },
    {
      "metadata": {
        "id": "P69iAXlpNsBy",
        "colab_type": "code",
        "colab": {
          "base_uri": "https://localhost:8080/",
          "height": 89
        },
        "cellView": "form",
        "outputId": "1d03a7ce-0132-4a11-a9d2-a01dc7dd2d82"
      },
      "cell_type": "code",
      "source": [
        "#@title Расчёты { run: \"auto\", vertical-output: true }\n",
        "avg_wages_this_year = 50000 #@param {type:\"integer\"}\n",
        "avg_inflation = 3 #@param {type:\"slider\", min:0, max:200, step:1}\n",
        "soc_tax = 13 #@param {type:\"slider\", min:0, max:100, step:1}\n",
        "overhead = 71 #@param {type:\"slider\", min:0, max:100, step:1}\n",
        "period_cost = 48 #@param {type:\"slider\", min:0, max:100, step:1}\n",
        "profitability = 10 #@param {type:\"slider\", min:0, max:100, step:1}\n",
        "vat = 20 #@param {type:\"slider\", min:0, max:100, step:1}\n",
        "import math\n",
        "\n",
        "r_sr = math.ceil(t/12)\n",
        "print(r_sr)\n",
        "\n",
        "avg_wage = [avg_wages_this_year]\n",
        "\n",
        "for i in range(r_sr-1):\n",
        "    temp = avg_wage[-1]*(1+avg_inflation/100)\n",
        "    avg_wage.append(temp)\n",
        "print(avg_wage)    \n",
        "avg_costs = []\n",
        "\n",
        "for i in range(r_sr):\n",
        "    temp = avg_wage[i]\n",
        "    temp *= 1 + (0.9*soc_tax + overhead + period_cost)/100\n",
        "    temp *= 1 + profitability / 100\n",
        "    temp += 1 + vat / 100\n",
        "    avg_costs.append(temp)\n",
        "print(avg_costs)\n",
        "Costs = sum(avg_costs)*S**r_sr/r_sr**r_sr\n",
        "print(Costs)"
      ],
      "execution_count": 136,
      "outputs": [
        {
          "output_type": "stream",
          "text": [
            "1\n",
            "[50000]\n",
            "[126886.20000000001]\n",
            "5403198.899636365\n"
          ],
          "name": "stdout"
        }
      ]
    },
    {
      "metadata": {
        "id": "q9JrrQzsSqtn",
        "colab_type": "text"
      },
      "cell_type": "markdown",
      "source": [
        "# 7. Оценка стоимости сопровождения"
      ]
    },
    {
      "metadata": {
        "id": "8KJ-eoVnSwMk",
        "colab_type": "code",
        "colab": {
          "base_uri": "https://localhost:8080/",
          "height": 35
        },
        "outputId": "d88dd7c3-1e24-4b6b-c61c-9a683348a5a0"
      },
      "cell_type": "code",
      "source": [
        "#@title Расчёты { run: \"auto\", vertical-output: true }\n",
        "N_coef = 15 #@param {type:\"slider\", min:0, max:100, step:1}\n",
        "s_Costs = Costs * N_coef / 100 * k[2] * k[3] * k[16]\n",
        "print(s_Costs)"
      ],
      "execution_count": 138,
      "outputs": [
        {
          "output_type": "stream",
          "text": [
            "810479.8349454547\n"
          ],
          "name": "stdout"
        }
      ]
    }
  ]
}